{
  "nbformat": 4,
  "nbformat_minor": 0,
  "metadata": {
    "colab": {
      "name": "python_assignment33.ipynb",
      "provenance": [],
      "collapsed_sections": []
    },
    "kernelspec": {
      "name": "python3",
      "display_name": "Python 3"
    },
    "language_info": {
      "name": "python"
    }
  },
  "cells": [
    {
      "cell_type": "code",
      "metadata": {
        "id": "AN1Rf9wMiFHY"
      },
      "source": [
        "num_list = [1,2,3,4,5]\n",
        "\n",
        "def prod(x, y):\n",
        "    return x * y\n",
        "\n",
        "from functools import reduce\n",
        "product = reduce(prod, num_list)"
      ],
      "execution_count": 1,
      "outputs": []
    },
    {
      "cell_type": "code",
      "metadata": {
        "colab": {
          "base_uri": "https://localhost:8080/"
        },
        "id": "oVN-7lHdiICF",
        "outputId": "fe6b7acb-5f6e-42f9-d0f9-b7e85ccd7747"
      },
      "source": [
        "product"
      ],
      "execution_count": 2,
      "outputs": [
        {
          "output_type": "execute_result",
          "data": {
            "text/plain": [
              "120"
            ]
          },
          "metadata": {},
          "execution_count": 2
        }
      ]
    },
    {
      "cell_type": "code",
      "metadata": {
        "id": "jTMTh37diJ_3"
      },
      "source": [
        "#Write a Python Program to implement your own myreduce() function which works exactly\n",
        "#like Python's built-in function reduce()"
      ],
      "execution_count": 4,
      "outputs": []
    },
    {
      "cell_type": "code",
      "metadata": {
        "id": "BH2gNw3Ti4ix"
      },
      "source": [
        "x=1 "
      ],
      "execution_count": 32,
      "outputs": []
    },
    {
      "cell_type": "code",
      "metadata": {
        "id": "sYtS7UK9kE32"
      },
      "source": [
        "def myreduce(x,num_list):\n",
        "  for i in num_list:\n",
        "      x=x*i\n",
        "  return x    "
      ],
      "execution_count": 37,
      "outputs": []
    },
    {
      "cell_type": "code",
      "metadata": {
        "colab": {
          "base_uri": "https://localhost:8080/"
        },
        "id": "VPTmlLg-jW15",
        "outputId": "acfa1e3b-47c5-4e96-beab-08ab0288fa3d"
      },
      "source": [
        "myreduce(1,[1,2,3,4,5])"
      ],
      "execution_count": 39,
      "outputs": [
        {
          "output_type": "execute_result",
          "data": {
            "text/plain": [
              "120"
            ]
          },
          "metadata": {},
          "execution_count": 39
        }
      ]
    },
    {
      "cell_type": "code",
      "metadata": {
        "id": "yaQWgMuana_A"
      },
      "source": [
        "# function that filters vowels\n",
        "def fun(variable):\n",
        "    letters = ['a', 'e', 'i', 'o', 'u']\n",
        "    if (variable in letters):\n",
        "        return True\n",
        "    else:\n",
        "        return False\n",
        "  \n",
        "  \n"
      ],
      "execution_count": 40,
      "outputs": []
    },
    {
      "cell_type": "code",
      "metadata": {
        "colab": {
          "base_uri": "https://localhost:8080/"
        },
        "id": "h-PIHf48nemJ",
        "outputId": "53b0bea8-41ec-4fa4-97dd-cf50bc44ad11"
      },
      "source": [
        "# sequence\n",
        "sequence = ['g', 'e', 'e', 'j', 'k', 's', 'p', 'r']\n",
        "  \n",
        "# using filter function\n",
        "filtered = filter(fun, sequence)\n",
        "  \n",
        "print('The filtered letters are:')\n",
        "for s in filtered:\n",
        " print(s)"
      ],
      "execution_count": 47,
      "outputs": [
        {
          "output_type": "stream",
          "name": "stdout",
          "text": [
            "The filtered letters are:\n",
            "e\n",
            "e\n"
          ]
        }
      ]
    },
    {
      "cell_type": "code",
      "metadata": {
        "colab": {
          "base_uri": "https://localhost:8080/"
        },
        "id": "gtoDWVP0o1F3",
        "outputId": "db5c5366-5822-4a28-ac50-010079c0ad92"
      },
      "source": [
        "t=['x', 'xx', 'xxx', 'xxxx', 'y', 'yy', 'yyy', 'yyyy', 'z', 'zz', 'zzz', 'zzzz']"
      ],
      "execution_count": 49,
      "outputs": [
        {
          "output_type": "execute_result",
          "data": {
            "text/plain": [
              "['x', 'xx', 'xxx', 'xxxx', 'y', 'yy', 'yyy', 'yyyy', 'z', 'zz', 'zzz', 'zzzz']"
            ]
          },
          "metadata": {},
          "execution_count": 49
        }
      ]
    },
    {
      "cell_type": "code",
      "metadata": {
        "id": "eX-QZPaSrkNO"
      },
      "source": [
        ""
      ],
      "execution_count": null,
      "outputs": []
    },
    {
      "cell_type": "code",
      "metadata": {
        "colab": {
          "base_uri": "https://localhost:8080/"
        },
        "id": "o_NIE5W4pVso",
        "outputId": "da94f401-d776-4270-aa44-9542563afee7"
      },
      "source": [
        "[i*j for i in 'xyz' for j in range(1,5)]"
      ],
      "execution_count": 52,
      "outputs": [
        {
          "output_type": "execute_result",
          "data": {
            "text/plain": [
              "['x', 'xx', 'xxx', 'xxxx', 'y', 'yy', 'yyy', 'yyyy', 'z', 'zz', 'zzz', 'zzzz']"
            ]
          },
          "metadata": {},
          "execution_count": 52
        }
      ]
    },
    {
      "cell_type": "code",
      "metadata": {
        "colab": {
          "base_uri": "https://localhost:8080/"
        },
        "id": "3cOy4YcRpmho",
        "outputId": "6f3e1a7c-103c-4dee-8490-5b95e8a49043"
      },
      "source": [
        "['x', 'y', 'z', 'xx', 'yy', 'zz', 'xxx', 'yyy', 'zzz', 'xxxx', 'yyyy', 'zzzz']"
      ],
      "execution_count": 53,
      "outputs": [
        {
          "output_type": "execute_result",
          "data": {
            "text/plain": [
              "['x', 'y', 'z', 'xx', 'yy', 'zz', 'xxx', 'yyy', 'zzz', 'xxxx', 'yyyy', 'zzzz']"
            ]
          },
          "metadata": {},
          "execution_count": 53
        }
      ]
    },
    {
      "cell_type": "code",
      "metadata": {
        "colab": {
          "base_uri": "https://localhost:8080/"
        },
        "id": "fROv-aNMrhvw",
        "outputId": "020350c4-9df6-4e34-afb1-8e9efbb35e95"
      },
      "source": [
        "[i*j for i in range(1,5) for j in \"xyz\" ]"
      ],
      "execution_count": 54,
      "outputs": [
        {
          "output_type": "execute_result",
          "data": {
            "text/plain": [
              "['x', 'y', 'z', 'xx', 'yy', 'zz', 'xxx', 'yyy', 'zzz', 'xxxx', 'yyyy', 'zzzz']"
            ]
          },
          "metadata": {},
          "execution_count": 54
        }
      ]
    },
    {
      "cell_type": "code",
      "metadata": {
        "colab": {
          "base_uri": "https://localhost:8080/"
        },
        "id": "3l3CFHwusVRg",
        "outputId": "24e87052-3a52-4b5a-e186-d5533ed889c0"
      },
      "source": [
        "[[2], [3], [4], [3], [4], [5], [4], [5], [6]]\n",
        "[[2, 3, 4, 5], [3, 4, 5, 6],[4, 5, 6, 7], [5, 6, 7, 8]]"
      ],
      "execution_count": 56,
      "outputs": [
        {
          "output_type": "execute_result",
          "data": {
            "text/plain": [
              "[[2, 3, 4, 5], [3, 4, 5, 6], [4, 5, 6, 7], [5, 6, 7, 8]]"
            ]
          },
          "metadata": {},
          "execution_count": 56
        }
      ]
    },
    {
      "cell_type": "code",
      "metadata": {
        "id": "xNpIGwlItVAY"
      },
      "source": [
        "list = [[x+y] for x in range(2,5) for y in range(3)]"
      ],
      "execution_count": 60,
      "outputs": []
    },
    {
      "cell_type": "code",
      "metadata": {
        "colab": {
          "base_uri": "https://localhost:8080/"
        },
        "id": "niKOLhwCvMhw",
        "outputId": "3ec77876-55ae-4d85-e1ce-9be952270f21"
      },
      "source": [
        "list"
      ],
      "execution_count": 61,
      "outputs": [
        {
          "output_type": "execute_result",
          "data": {
            "text/plain": [
              "[[2], [3], [4], [3], [4], [5], [4], [5], [6]]"
            ]
          },
          "metadata": {},
          "execution_count": 61
        }
      ]
    },
    {
      "cell_type": "code",
      "metadata": {
        "id": "T4iLd5cQwMto"
      },
      "source": [
        "[(1, 1), (2, 1), (3, 1), (1, 2), (2, 2), (3, 2), (1, 3), (2, 3), (3, 3)]"
      ],
      "execution_count": null,
      "outputs": []
    },
    {
      "cell_type": "code",
      "metadata": {
        "colab": {
          "base_uri": "https://localhost:8080/"
        },
        "id": "_LcE6WvYvNtP",
        "outputId": "b97e5367-d025-43f4-dbf8-a9030feb6f81"
      },
      "source": [
        " [(y,x) for x in [1,2,3] for y in [1,2,3]]"
      ],
      "execution_count": 63,
      "outputs": [
        {
          "output_type": "execute_result",
          "data": {
            "text/plain": [
              "[(1, 1), (2, 1), (3, 1), (1, 2), (2, 2), (3, 2), (1, 3), (2, 3), (3, 3)]"
            ]
          },
          "metadata": {},
          "execution_count": 63
        }
      ]
    },
    {
      "cell_type": "code",
      "metadata": {
        "id": "tZELWlenwVj9"
      },
      "source": [
        ""
      ],
      "execution_count": null,
      "outputs": []
    }
  ]
}