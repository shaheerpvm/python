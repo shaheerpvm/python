{
  "nbformat": 4,
  "nbformat_minor": 0,
  "metadata": {
    "colab": {
      "name": "exceptinal_handling_assignment",
      "provenance": [],
      "collapsed_sections": []
    },
    "kernelspec": {
      "name": "python3",
      "display_name": "Python 3"
    },
    "language_info": {
      "name": "python"
    }
  },
  "cells": [
    {
      "cell_type": "code",
      "metadata": {
        "id": "nOD3gjBGDsrT"
      },
      "source": [
        "#Write a function to compute 5/0 and use try/except to catch the exceptions."
      ],
      "execution_count": 1,
      "outputs": []
    },
    {
      "cell_type": "code",
      "metadata": {
        "colab": {
          "base_uri": "https://localhost:8080/"
        },
        "id": "TCfSZXC_DwUg",
        "outputId": "3d545f4a-2c47-41f6-dfdf-80f8b4553693"
      },
      "source": [
        "def throws():\n",
        "    return 5/0\n",
        "\n",
        "try:\n",
        "    throws()\n",
        "except ZeroDivisionError:\n",
        "    print( \"division by zero!\")\n",
        "except Exception as err:\n",
        "    print( \"Caught an exception\")\n",
        "finally:\n",
        "    print('In finally block for cleanup')"
      ],
      "execution_count": 6,
      "outputs": [
        {
          "output_type": "stream",
          "name": "stdout",
          "text": [
            "division by zero!\n",
            "In finally block for cleanup\n"
          ]
        }
      ]
    },
    {
      "cell_type": "code",
      "metadata": {
        "id": "gmfmqeDnD1WD"
      },
      "source": [
        ""
      ],
      "execution_count": null,
      "outputs": []
    }
  ]
}