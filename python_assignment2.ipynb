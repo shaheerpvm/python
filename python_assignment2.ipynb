{
  "nbformat": 4,
  "nbformat_minor": 0,
  "metadata": {
    "colab": {
      "name": "python_assignment2.ipynb",
      "provenance": []
    },
    "kernelspec": {
      "name": "python3",
      "display_name": "Python 3"
    },
    "language_info": {
      "name": "python"
    }
  },
  "cells": [
    {
      "cell_type": "code",
      "metadata": {
        "colab": {
          "base_uri": "https://localhost:8080/"
        },
        "id": "MS5hlmYLaCNQ",
        "outputId": "69e1f775-8e8f-4d5e-d1e7-cd1887685b4a"
      },
      "source": [
        "for i in range(1,6):\n",
        "  for j in range(0,i):\n",
        "    print(\"*  \",end=\" \")\n",
        "  print(\"\\n\")\n",
        "for i in range(5,1,-1):\n",
        "  for j in range(i,0,-1):\n",
        "    print(\"* \",end=\" \")\n",
        "  print(\"\\n\")  "
      ],
      "execution_count": 17,
      "outputs": [
        {
          "output_type": "stream",
          "name": "stdout",
          "text": [
            "*   \n",
            "\n",
            "*   *   \n",
            "\n",
            "*   *   *   \n",
            "\n",
            "*   *   *   *   \n",
            "\n",
            "*   *   *   *   *   \n",
            "\n",
            "*  *  *  *  *  \n",
            "\n",
            "*  *  *  *  \n",
            "\n",
            "*  *  *  \n",
            "\n",
            "*  *  \n",
            "\n"
          ]
        }
      ]
    },
    {
      "cell_type": "code",
      "metadata": {
        "colab": {
          "base_uri": "https://localhost:8080/",
          "height": 52
        },
        "id": "jgZVvx2IdK75",
        "outputId": "ef8d830d-92b8-4d99-9c5e-accf6f8a0971"
      },
      "source": [
        "word=input(\"enter a word\")\n",
        "word[::-1]"
      ],
      "execution_count": 18,
      "outputs": [
        {
          "name": "stdout",
          "output_type": "stream",
          "text": [
            "enter a wordshaheer\n"
          ]
        },
        {
          "output_type": "execute_result",
          "data": {
            "application/vnd.google.colaboratory.intrinsic+json": {
              "type": "string"
            },
            "text/plain": [
              "'reehahs'"
            ]
          },
          "metadata": {},
          "execution_count": 18
        }
      ]
    },
    {
      "cell_type": "code",
      "metadata": {
        "id": "ZhNJWHwRfzLC"
      },
      "source": [
        ""
      ],
      "execution_count": 18,
      "outputs": []
    }
  ]
}